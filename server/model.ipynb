{
 "cells": [
  {
   "cell_type": "markdown",
   "id": "32d7d3fb",
   "metadata": {},
   "source": [
    "# AI - Based Material Recommendation System"
   ]
  },
  {
   "cell_type": "markdown",
   "id": "c6f1ad02",
   "metadata": {},
   "source": [
    "## Import Required Libraries"
   ]
  },
  {
   "cell_type": "code",
   "execution_count": 13,
   "id": "713c3d37",
   "metadata": {},
   "outputs": [],
   "source": [
    "import pandas as pd\n",
    "import numpy as np\n",
    "import os\n",
    "import pickle\n",
    "import shutil\n",
    "import warnings\n",
    "\n",
    "from sklearn.model_selection import train_test_split, GridSearchCV\n",
    "from sklearn.preprocessing import LabelEncoder, StandardScaler\n",
    "from sklearn.linear_model import LogisticRegression\n",
    "from sklearn.svm import SVC\n",
    "from sklearn.neighbors import KNeighborsClassifier\n",
    "from sklearn.naive_bayes import GaussianNB\n",
    "from sklearn.tree import DecisionTreeClassifier\n",
    "from sklearn.ensemble import RandomForestClassifier\n",
    "from sklearn.metrics import (\n",
    "    accuracy_score, confusion_matrix, classification_report, f1_score\n",
    ")\n",
    "\n",
    "from sklearn.exceptions import ConvergenceWarning\n",
    "from urllib.parse import urlparse\n",
    "\n",
    "import mlflow\n",
    "from mlflow.models import infer_signature\n",
    "\n",
    "warnings.filterwarnings(\"ignore\", category=ConvergenceWarning)"
   ]
  },
  {
   "cell_type": "markdown",
   "id": "374b4fa7",
   "metadata": {},
   "source": [
    "## Load & Preprocess Dataset"
   ]
  },
  {
   "cell_type": "code",
   "execution_count": 14,
   "id": "ae48e09c",
   "metadata": {},
   "outputs": [
    {
     "data": {
      "text/html": [
       "<div>\n",
       "<style scoped>\n",
       "    .dataframe tbody tr th:only-of-type {\n",
       "        vertical-align: middle;\n",
       "    }\n",
       "\n",
       "    .dataframe tbody tr th {\n",
       "        vertical-align: top;\n",
       "    }\n",
       "\n",
       "    .dataframe thead th {\n",
       "        text-align: right;\n",
       "    }\n",
       "</style>\n",
       "<table border=\"1\" class=\"dataframe\">\n",
       "  <thead>\n",
       "    <tr style=\"text-align: right;\">\n",
       "      <th></th>\n",
       "      <th>Environment</th>\n",
       "      <th>Required_Strength</th>\n",
       "      <th>Durability_Priority</th>\n",
       "      <th>Eco_Preference</th>\n",
       "      <th>Application_Area</th>\n",
       "      <th>Max_Lead_Time</th>\n",
       "      <th>Material_Name</th>\n",
       "    </tr>\n",
       "  </thead>\n",
       "  <tbody>\n",
       "    <tr>\n",
       "      <th>0</th>\n",
       "      <td>Coastal</td>\n",
       "      <td>High</td>\n",
       "      <td>9</td>\n",
       "      <td>Yes</td>\n",
       "      <td>Bridge Support</td>\n",
       "      <td>30</td>\n",
       "      <td>Stainless Steel 316</td>\n",
       "    </tr>\n",
       "    <tr>\n",
       "      <th>1</th>\n",
       "      <td>Dry</td>\n",
       "      <td>Medium</td>\n",
       "      <td>6</td>\n",
       "      <td>Yes</td>\n",
       "      <td>Interior Wall Frame</td>\n",
       "      <td>10</td>\n",
       "      <td>Plywood</td>\n",
       "    </tr>\n",
       "    <tr>\n",
       "      <th>2</th>\n",
       "      <td>Humid</td>\n",
       "      <td>Low</td>\n",
       "      <td>5</td>\n",
       "      <td>Yes</td>\n",
       "      <td>Furniture</td>\n",
       "      <td>7</td>\n",
       "      <td>Teak Wood</td>\n",
       "    </tr>\n",
       "    <tr>\n",
       "      <th>3</th>\n",
       "      <td>Dry</td>\n",
       "      <td>High</td>\n",
       "      <td>8</td>\n",
       "      <td>No</td>\n",
       "      <td>Gear Components</td>\n",
       "      <td>20</td>\n",
       "      <td>Carbon Steel</td>\n",
       "    </tr>\n",
       "    <tr>\n",
       "      <th>4</th>\n",
       "      <td>Coastal</td>\n",
       "      <td>Medium</td>\n",
       "      <td>7</td>\n",
       "      <td>Yes</td>\n",
       "      <td>Window Frames</td>\n",
       "      <td>15</td>\n",
       "      <td>Aluminum 6061</td>\n",
       "    </tr>\n",
       "    <tr>\n",
       "      <th>...</th>\n",
       "      <td>...</td>\n",
       "      <td>...</td>\n",
       "      <td>...</td>\n",
       "      <td>...</td>\n",
       "      <td>...</td>\n",
       "      <td>...</td>\n",
       "      <td>...</td>\n",
       "    </tr>\n",
       "    <tr>\n",
       "      <th>1086</th>\n",
       "      <td>Dry</td>\n",
       "      <td>Medium</td>\n",
       "      <td>5</td>\n",
       "      <td>Yes</td>\n",
       "      <td>Solar Structures</td>\n",
       "      <td>1</td>\n",
       "      <td>Polycarbonate</td>\n",
       "    </tr>\n",
       "    <tr>\n",
       "      <th>1087</th>\n",
       "      <td>Coastal</td>\n",
       "      <td>Low</td>\n",
       "      <td>4</td>\n",
       "      <td>No</td>\n",
       "      <td>Marine Design</td>\n",
       "      <td>1</td>\n",
       "      <td>Aluminum 6061</td>\n",
       "    </tr>\n",
       "    <tr>\n",
       "      <th>1088</th>\n",
       "      <td>Humid</td>\n",
       "      <td>Medium</td>\n",
       "      <td>6</td>\n",
       "      <td>Yes</td>\n",
       "      <td>Water Network</td>\n",
       "      <td>6</td>\n",
       "      <td>HDPE</td>\n",
       "    </tr>\n",
       "    <tr>\n",
       "      <th>1089</th>\n",
       "      <td>Dry</td>\n",
       "      <td>High</td>\n",
       "      <td>8</td>\n",
       "      <td>No</td>\n",
       "      <td>Metal Fabrication</td>\n",
       "      <td>19</td>\n",
       "      <td>Carbon Steel</td>\n",
       "    </tr>\n",
       "    <tr>\n",
       "      <th>1090</th>\n",
       "      <td>Coastal</td>\n",
       "      <td>High</td>\n",
       "      <td>10</td>\n",
       "      <td>Yes</td>\n",
       "      <td>Blue Energy</td>\n",
       "      <td>31</td>\n",
       "      <td>Stainless Steel 316</td>\n",
       "    </tr>\n",
       "  </tbody>\n",
       "</table>\n",
       "<p>1091 rows × 7 columns</p>\n",
       "</div>"
      ],
      "text/plain": [
       "     Environment Required_Strength  Durability_Priority Eco_Preference  \\\n",
       "0        Coastal              High                    9            Yes   \n",
       "1            Dry            Medium                    6            Yes   \n",
       "2          Humid               Low                    5            Yes   \n",
       "3            Dry              High                    8             No   \n",
       "4        Coastal            Medium                    7            Yes   \n",
       "...          ...               ...                  ...            ...   \n",
       "1086         Dry            Medium                    5            Yes   \n",
       "1087     Coastal               Low                    4             No   \n",
       "1088       Humid            Medium                    6            Yes   \n",
       "1089         Dry              High                    8             No   \n",
       "1090     Coastal              High                   10            Yes   \n",
       "\n",
       "         Application_Area  Max_Lead_Time        Material_Name  \n",
       "0          Bridge Support             30  Stainless Steel 316  \n",
       "1     Interior Wall Frame             10              Plywood  \n",
       "2               Furniture              7            Teak Wood  \n",
       "3         Gear Components             20         Carbon Steel  \n",
       "4           Window Frames             15        Aluminum 6061  \n",
       "...                   ...            ...                  ...  \n",
       "1086     Solar Structures              1        Polycarbonate  \n",
       "1087        Marine Design              1        Aluminum 6061  \n",
       "1088        Water Network              6                 HDPE  \n",
       "1089    Metal Fabrication             19         Carbon Steel  \n",
       "1090          Blue Energy             31  Stainless Steel 316  \n",
       "\n",
       "[1091 rows x 7 columns]"
      ]
     },
     "execution_count": 14,
     "metadata": {},
     "output_type": "execute_result"
    }
   ],
   "source": [
    "data = pd.read_csv('data.csv')\n",
    "data"
   ]
  },
  {
   "cell_type": "code",
   "execution_count": 15,
   "id": "f3e03f47",
   "metadata": {},
   "outputs": [
    {
     "data": {
      "text/plain": [
       "1091"
      ]
     },
     "execution_count": 15,
     "metadata": {},
     "output_type": "execute_result"
    }
   ],
   "source": [
    "len(data)"
   ]
  },
  {
   "cell_type": "code",
   "execution_count": 16,
   "id": "b19e03f2",
   "metadata": {},
   "outputs": [
    {
     "data": {
      "text/plain": [
       "Environment            0\n",
       "Required_Strength      0\n",
       "Durability_Priority    0\n",
       "Eco_Preference         0\n",
       "Application_Area       0\n",
       "Max_Lead_Time          0\n",
       "Material_Name          0\n",
       "dtype: int64"
      ]
     },
     "execution_count": 16,
     "metadata": {},
     "output_type": "execute_result"
    }
   ],
   "source": [
    "## Check for missing values\n",
    "data.isnull().sum()"
   ]
  },
  {
   "cell_type": "code",
   "execution_count": 17,
   "id": "1ffcdf95",
   "metadata": {},
   "outputs": [
    {
     "data": {
      "text/plain": [
       "Environment            object\n",
       "Required_Strength      object\n",
       "Durability_Priority     int64\n",
       "Eco_Preference         object\n",
       "Application_Area       object\n",
       "Max_Lead_Time           int64\n",
       "Material_Name          object\n",
       "dtype: object"
      ]
     },
     "execution_count": 17,
     "metadata": {},
     "output_type": "execute_result"
    }
   ],
   "source": [
    "## data types\n",
    "data.dtypes"
   ]
  },
  {
   "cell_type": "markdown",
   "id": "93158a91",
   "metadata": {},
   "source": [
    "## Define Dependent and Independent Variables"
   ]
  },
  {
   "cell_type": "code",
   "execution_count": 18,
   "id": "7dfb831f",
   "metadata": {},
   "outputs": [],
   "source": [
    "X = data.drop(columns=['Material_Name', 'Application_Area'], axis=1)\n",
    "y = data['Material_Name']"
   ]
  },
  {
   "cell_type": "markdown",
   "id": "61b09c01",
   "metadata": {},
   "source": [
    "## Encode categorical features"
   ]
  },
  {
   "cell_type": "code",
   "execution_count": 19,
   "id": "8459e782",
   "metadata": {},
   "outputs": [],
   "source": [
    "# Initialize encoder\n",
    "le = LabelEncoder()"
   ]
  },
  {
   "cell_type": "code",
   "execution_count": 20,
   "id": "479436e8",
   "metadata": {},
   "outputs": [],
   "source": [
    "# Fit encoders on respective columns\n",
    "X[\"Environment\"] = le.fit_transform(X[\"Environment\"])\n",
    "X[\"Required_Strength\"] = le.fit_transform(X[\"Required_Strength\"])\n",
    "X[\"Eco_Preference\"] = le.fit_transform(X[\"Eco_Preference\"])\n",
    "y = le.fit_transform(y) "
   ]
  },
  {
   "cell_type": "markdown",
   "id": "c70de05b",
   "metadata": {},
   "source": [
    "## Feature Scaling"
   ]
  },
  {
   "cell_type": "code",
   "execution_count": 21,
   "id": "13ab595b",
   "metadata": {},
   "outputs": [
    {
     "data": {
      "text/html": [
       "<div>\n",
       "<style scoped>\n",
       "    .dataframe tbody tr th:only-of-type {\n",
       "        vertical-align: middle;\n",
       "    }\n",
       "\n",
       "    .dataframe tbody tr th {\n",
       "        vertical-align: top;\n",
       "    }\n",
       "\n",
       "    .dataframe thead th {\n",
       "        text-align: right;\n",
       "    }\n",
       "</style>\n",
       "<table border=\"1\" class=\"dataframe\">\n",
       "  <thead>\n",
       "    <tr style=\"text-align: right;\">\n",
       "      <th></th>\n",
       "      <th>Environment</th>\n",
       "      <th>Required_Strength</th>\n",
       "      <th>Durability_Priority</th>\n",
       "      <th>Eco_Preference</th>\n",
       "      <th>Max_Lead_Time</th>\n",
       "    </tr>\n",
       "  </thead>\n",
       "  <tbody>\n",
       "    <tr>\n",
       "      <th>0</th>\n",
       "      <td>0</td>\n",
       "      <td>0</td>\n",
       "      <td>1.165124</td>\n",
       "      <td>1</td>\n",
       "      <td>0.834173</td>\n",
       "    </tr>\n",
       "    <tr>\n",
       "      <th>1</th>\n",
       "      <td>1</td>\n",
       "      <td>2</td>\n",
       "      <td>-0.092196</td>\n",
       "      <td>1</td>\n",
       "      <td>-0.919865</td>\n",
       "    </tr>\n",
       "    <tr>\n",
       "      <th>2</th>\n",
       "      <td>2</td>\n",
       "      <td>1</td>\n",
       "      <td>-0.511302</td>\n",
       "      <td>1</td>\n",
       "      <td>-1.182971</td>\n",
       "    </tr>\n",
       "    <tr>\n",
       "      <th>3</th>\n",
       "      <td>1</td>\n",
       "      <td>0</td>\n",
       "      <td>0.746017</td>\n",
       "      <td>0</td>\n",
       "      <td>-0.042846</td>\n",
       "    </tr>\n",
       "    <tr>\n",
       "      <th>4</th>\n",
       "      <td>0</td>\n",
       "      <td>2</td>\n",
       "      <td>0.326911</td>\n",
       "      <td>1</td>\n",
       "      <td>-0.481356</td>\n",
       "    </tr>\n",
       "    <tr>\n",
       "      <th>...</th>\n",
       "      <td>...</td>\n",
       "      <td>...</td>\n",
       "      <td>...</td>\n",
       "      <td>...</td>\n",
       "      <td>...</td>\n",
       "    </tr>\n",
       "    <tr>\n",
       "      <th>1086</th>\n",
       "      <td>1</td>\n",
       "      <td>2</td>\n",
       "      <td>-0.511302</td>\n",
       "      <td>1</td>\n",
       "      <td>-1.709182</td>\n",
       "    </tr>\n",
       "    <tr>\n",
       "      <th>1087</th>\n",
       "      <td>0</td>\n",
       "      <td>1</td>\n",
       "      <td>-0.930409</td>\n",
       "      <td>0</td>\n",
       "      <td>-1.709182</td>\n",
       "    </tr>\n",
       "    <tr>\n",
       "      <th>1088</th>\n",
       "      <td>2</td>\n",
       "      <td>2</td>\n",
       "      <td>-0.092196</td>\n",
       "      <td>1</td>\n",
       "      <td>-1.270673</td>\n",
       "    </tr>\n",
       "    <tr>\n",
       "      <th>1089</th>\n",
       "      <td>1</td>\n",
       "      <td>0</td>\n",
       "      <td>0.746017</td>\n",
       "      <td>0</td>\n",
       "      <td>-0.130548</td>\n",
       "    </tr>\n",
       "    <tr>\n",
       "      <th>1090</th>\n",
       "      <td>0</td>\n",
       "      <td>0</td>\n",
       "      <td>1.584231</td>\n",
       "      <td>1</td>\n",
       "      <td>0.921875</td>\n",
       "    </tr>\n",
       "  </tbody>\n",
       "</table>\n",
       "<p>1091 rows × 5 columns</p>\n",
       "</div>"
      ],
      "text/plain": [
       "      Environment  Required_Strength  Durability_Priority  Eco_Preference  \\\n",
       "0               0                  0             1.165124               1   \n",
       "1               1                  2            -0.092196               1   \n",
       "2               2                  1            -0.511302               1   \n",
       "3               1                  0             0.746017               0   \n",
       "4               0                  2             0.326911               1   \n",
       "...           ...                ...                  ...             ...   \n",
       "1086            1                  2            -0.511302               1   \n",
       "1087            0                  1            -0.930409               0   \n",
       "1088            2                  2            -0.092196               1   \n",
       "1089            1                  0             0.746017               0   \n",
       "1090            0                  0             1.584231               1   \n",
       "\n",
       "      Max_Lead_Time  \n",
       "0          0.834173  \n",
       "1         -0.919865  \n",
       "2         -1.182971  \n",
       "3         -0.042846  \n",
       "4         -0.481356  \n",
       "...             ...  \n",
       "1086      -1.709182  \n",
       "1087      -1.709182  \n",
       "1088      -1.270673  \n",
       "1089      -0.130548  \n",
       "1090       0.921875  \n",
       "\n",
       "[1091 rows x 5 columns]"
      ]
     },
     "execution_count": 21,
     "metadata": {},
     "output_type": "execute_result"
    }
   ],
   "source": [
    "scaler = StandardScaler()\n",
    "columns_to_scale = ['Durability_Priority', 'Max_Lead_Time']\n",
    "for col in columns_to_scale:\n",
    "    X[col] = scaler.fit_transform(X[col].values.reshape(-1, 1))\n",
    "X"
   ]
  },
  {
   "cell_type": "markdown",
   "id": "dc51d0f3",
   "metadata": {},
   "source": [
    "## Save label encoders and scaler"
   ]
  },
  {
   "cell_type": "code",
   "execution_count": 41,
   "id": "e20bf33c",
   "metadata": {},
   "outputs": [],
   "source": [
    "pickle.dump(scaler, open(\"pickle_files/scaler.pkl\", \"wb\"))\n",
    "pickle.dump(le, open(\"pickle_files/encoder.pkl\", \"wb\"))"
   ]
  },
  {
   "cell_type": "markdown",
   "id": "2ba5b977",
   "metadata": {},
   "source": [
    "## Split dataset"
   ]
  },
  {
   "cell_type": "code",
   "execution_count": 23,
   "id": "31973c19",
   "metadata": {},
   "outputs": [],
   "source": [
    "X_train, X_test, y_train, y_test = train_test_split(X,y, test_size=0.2, random_state=42)"
   ]
  },
  {
   "cell_type": "markdown",
   "id": "53863b7f",
   "metadata": {},
   "source": [
    "## Generate MLflow model signature"
   ]
  },
  {
   "cell_type": "code",
   "execution_count": 24,
   "id": "4b94cf41",
   "metadata": {},
   "outputs": [
    {
     "name": "stderr",
     "output_type": "stream",
     "text": [
      "c:\\Users\\PRANAV\\OneDrive\\Desktop\\AI-Based Material Recommendation System\\venv\\Lib\\site-packages\\mlflow\\types\\utils.py:452: UserWarning: Hint: Inferred schema contains integer column(s). Integer columns in Python cannot represent missing values. If your input data contains missing values at inference time, it will be encoded as floats and will cause a schema enforcement error. The best way to avoid this problem is to infer the model schema based on a realistic data sample (training dataset) that includes missing values. Alternatively, you can declare integer columns as doubles (float64) whenever these columns may have missing values. See `Handling Integers With Missing Values <https://www.mlflow.org/docs/latest/models.html#handling-integers-with-missing-values>`_ for more details.\n",
      "  warnings.warn(\n"
     ]
    }
   ],
   "source": [
    "signature = infer_signature(X_train, y_train)"
   ]
  },
  {
   "cell_type": "markdown",
   "id": "ebc772b0",
   "metadata": {},
   "source": [
    "## Define Models and Hyperparameters"
   ]
  },
  {
   "cell_type": "code",
   "execution_count": 25,
   "id": "079ca64d",
   "metadata": {},
   "outputs": [],
   "source": [
    "models = {\n",
    "    \"LogisticRegression\": (LogisticRegression(), {\n",
    "        'C': [0.01, 0.1, 1, 10],\n",
    "        'solver': ['liblinear', 'saga'],  \n",
    "        'penalty': ['l1', 'l2'],\n",
    "        'max_iter': [100, 200]\n",
    "    }),\n",
    "    \"SVC\": (SVC(probability=True), {\n",
    "        'C': [0.1, 1],\n",
    "        'kernel': ['linear', 'rbf'],\n",
    "        'gamma': ['scale', 'auto'],\n",
    "        'degree': [2, 3]\n",
    "    }),\n",
    "    \"KNeighborsClassifier\": (KNeighborsClassifier(), {\n",
    "        'n_neighbors': [3, 5],\n",
    "        'weights': ['uniform', 'distance'],\n",
    "        'metric': ['euclidean', 'manhattan'],\n",
    "        'p': [1, 2]\n",
    "    }),\n",
    "    \"GaussianNB\": (GaussianNB(), {\n",
    "        'var_smoothing': [1e-9, 1e-8]\n",
    "    }),\n",
    "    \"DecisionTreeClassifier\": (DecisionTreeClassifier(), {\n",
    "        'criterion': ['gini', 'entropy'],\n",
    "        'max_depth': [None, 5, 10],\n",
    "        'min_samples_split': [2, 5],\n",
    "        'min_samples_leaf': [1, 2],\n",
    "        'max_features': ['sqrt', 'log2', None]\n",
    "    }),\n",
    "    \"RandomForestClassifier\": (RandomForestClassifier(), {\n",
    "        'n_estimators': [100, 200],\n",
    "        'criterion': ['gini', 'entropy'],\n",
    "        'max_depth': [None, 10, 20],\n",
    "        'min_samples_split': [2, 5],\n",
    "        'min_samples_leaf': [1, 2],\n",
    "        'max_features': ['sqrt', 'log2']\n",
    "    })\n",
    "}"
   ]
  },
  {
   "cell_type": "markdown",
   "id": "dcb34c9f",
   "metadata": {},
   "source": [
    "## Train and Log Models to MLflow"
   ]
  },
  {
   "cell_type": "code",
   "execution_count": 26,
   "id": "2b11b90f",
   "metadata": {},
   "outputs": [],
   "source": [
    "# MLflow URI\n",
    "mlflow.set_tracking_uri(\"http://127.0.0.1:5000\")"
   ]
  },
  {
   "cell_type": "code",
   "execution_count": null,
   "id": "63321257",
   "metadata": {},
   "outputs": [
    {
     "name": "stdout",
     "output_type": "stream",
     "text": [
      "\n",
      "--- Running LogisticRegression ---\n",
      "Fitting 3 folds for each of 32 candidates, totalling 96 fits\n"
     ]
    },
    {
     "name": "stderr",
     "output_type": "stream",
     "text": [
      "c:\\Users\\PRANAV\\OneDrive\\Desktop\\AI-Based Material Recommendation System\\venv\\Lib\\site-packages\\sklearn\\model_selection\\_split.py:805: UserWarning: The least populated class in y has only 1 members, which is less than n_splits=3.\n",
      "  warnings.warn(\n",
      "c:\\Users\\PRANAV\\OneDrive\\Desktop\\AI-Based Material Recommendation System\\venv\\Lib\\site-packages\\sklearn\\metrics\\_classification.py:1565: UndefinedMetricWarning: Precision is ill-defined and being set to 0.0 in labels with no predicted samples. Use `zero_division` parameter to control this behavior.\n",
      "  _warn_prf(average, modifier, f\"{metric.capitalize()} is\", len(result))\n",
      "c:\\Users\\PRANAV\\OneDrive\\Desktop\\AI-Based Material Recommendation System\\venv\\Lib\\site-packages\\sklearn\\metrics\\_classification.py:1565: UndefinedMetricWarning: Precision is ill-defined and being set to 0.0 in labels with no predicted samples. Use `zero_division` parameter to control this behavior.\n",
      "  _warn_prf(average, modifier, f\"{metric.capitalize()} is\", len(result))\n",
      "c:\\Users\\PRANAV\\OneDrive\\Desktop\\AI-Based Material Recommendation System\\venv\\Lib\\site-packages\\sklearn\\metrics\\_classification.py:1565: UndefinedMetricWarning: Precision is ill-defined and being set to 0.0 in labels with no predicted samples. Use `zero_division` parameter to control this behavior.\n",
      "  _warn_prf(average, modifier, f\"{metric.capitalize()} is\", len(result))\n",
      "Successfully registered model 'LogisticRegression_Model'.\n",
      "2025/05/02 20:34:25 INFO mlflow.store.model_registry.abstract_store: Waiting up to 300 seconds for model version to finish creation. Model name: LogisticRegression_Model, version 1\n",
      "Created version '1' of model 'LogisticRegression_Model'.\n",
      "c:\\Users\\PRANAV\\OneDrive\\Desktop\\AI-Based Material Recommendation System\\venv\\Lib\\site-packages\\sklearn\\model_selection\\_split.py:805: UserWarning: The least populated class in y has only 1 members, which is less than n_splits=3.\n",
      "  warnings.warn(\n"
     ]
    },
    {
     "name": "stdout",
     "output_type": "stream",
     "text": [
      "LogisticRegression - Accuracy: 0.3516, F1 Score: 0.2873\n",
      "🏃 View run LogisticRegression at: http://127.0.0.1:5000/#/experiments/0/runs/f365938f618b4dd59995d78c14c87b46\n",
      "🧪 View experiment at: http://127.0.0.1:5000/#/experiments/0\n",
      "\n",
      "--- Running SVC ---\n",
      "Fitting 3 folds for each of 16 candidates, totalling 48 fits\n"
     ]
    },
    {
     "name": "stderr",
     "output_type": "stream",
     "text": [
      "c:\\Users\\PRANAV\\OneDrive\\Desktop\\AI-Based Material Recommendation System\\venv\\Lib\\site-packages\\sklearn\\metrics\\_classification.py:1565: UndefinedMetricWarning: Precision is ill-defined and being set to 0.0 in labels with no predicted samples. Use `zero_division` parameter to control this behavior.\n",
      "  _warn_prf(average, modifier, f\"{metric.capitalize()} is\", len(result))\n",
      "c:\\Users\\PRANAV\\OneDrive\\Desktop\\AI-Based Material Recommendation System\\venv\\Lib\\site-packages\\sklearn\\metrics\\_classification.py:1565: UndefinedMetricWarning: Precision is ill-defined and being set to 0.0 in labels with no predicted samples. Use `zero_division` parameter to control this behavior.\n",
      "  _warn_prf(average, modifier, f\"{metric.capitalize()} is\", len(result))\n",
      "c:\\Users\\PRANAV\\OneDrive\\Desktop\\AI-Based Material Recommendation System\\venv\\Lib\\site-packages\\sklearn\\metrics\\_classification.py:1565: UndefinedMetricWarning: Precision is ill-defined and being set to 0.0 in labels with no predicted samples. Use `zero_division` parameter to control this behavior.\n",
      "  _warn_prf(average, modifier, f\"{metric.capitalize()} is\", len(result))\n",
      "Successfully registered model 'SVC_Model'.\n",
      "2025/05/02 20:34:30 INFO mlflow.store.model_registry.abstract_store: Waiting up to 300 seconds for model version to finish creation. Model name: SVC_Model, version 1\n",
      "Created version '1' of model 'SVC_Model'.\n",
      "c:\\Users\\PRANAV\\OneDrive\\Desktop\\AI-Based Material Recommendation System\\venv\\Lib\\site-packages\\sklearn\\model_selection\\_split.py:805: UserWarning: The least populated class in y has only 1 members, which is less than n_splits=3.\n",
      "  warnings.warn(\n",
      "c:\\Users\\PRANAV\\OneDrive\\Desktop\\AI-Based Material Recommendation System\\venv\\Lib\\site-packages\\sklearn\\metrics\\_classification.py:1565: UndefinedMetricWarning: Precision is ill-defined and being set to 0.0 in labels with no predicted samples. Use `zero_division` parameter to control this behavior.\n",
      "  _warn_prf(average, modifier, f\"{metric.capitalize()} is\", len(result))\n",
      "c:\\Users\\PRANAV\\OneDrive\\Desktop\\AI-Based Material Recommendation System\\venv\\Lib\\site-packages\\sklearn\\metrics\\_classification.py:1565: UndefinedMetricWarning: Precision is ill-defined and being set to 0.0 in labels with no predicted samples. Use `zero_division` parameter to control this behavior.\n",
      "  _warn_prf(average, modifier, f\"{metric.capitalize()} is\", len(result))\n",
      "c:\\Users\\PRANAV\\OneDrive\\Desktop\\AI-Based Material Recommendation System\\venv\\Lib\\site-packages\\sklearn\\metrics\\_classification.py:1565: UndefinedMetricWarning: Precision is ill-defined and being set to 0.0 in labels with no predicted samples. Use `zero_division` parameter to control this behavior.\n",
      "  _warn_prf(average, modifier, f\"{metric.capitalize()} is\", len(result))\n"
     ]
    },
    {
     "name": "stdout",
     "output_type": "stream",
     "text": [
      "SVC - Accuracy: 0.5251, F1 Score: 0.4965\n",
      "🏃 View run SVC at: http://127.0.0.1:5000/#/experiments/0/runs/5f8285bb9133490bbd82e7579d0bae8a\n",
      "🧪 View experiment at: http://127.0.0.1:5000/#/experiments/0\n",
      "\n",
      "--- Running KNeighborsClassifier ---\n",
      "Fitting 3 folds for each of 16 candidates, totalling 48 fits\n"
     ]
    },
    {
     "name": "stderr",
     "output_type": "stream",
     "text": [
      "Successfully registered model 'KNeighborsClassifier_Model'.\n",
      "2025/05/02 20:34:34 INFO mlflow.store.model_registry.abstract_store: Waiting up to 300 seconds for model version to finish creation. Model name: KNeighborsClassifier_Model, version 1\n",
      "Created version '1' of model 'KNeighborsClassifier_Model'.\n",
      "c:\\Users\\PRANAV\\OneDrive\\Desktop\\AI-Based Material Recommendation System\\venv\\Lib\\site-packages\\sklearn\\model_selection\\_split.py:805: UserWarning: The least populated class in y has only 1 members, which is less than n_splits=3.\n",
      "  warnings.warn(\n",
      "c:\\Users\\PRANAV\\OneDrive\\Desktop\\AI-Based Material Recommendation System\\venv\\Lib\\site-packages\\sklearn\\metrics\\_classification.py:1565: UndefinedMetricWarning: Precision is ill-defined and being set to 0.0 in labels with no predicted samples. Use `zero_division` parameter to control this behavior.\n",
      "  _warn_prf(average, modifier, f\"{metric.capitalize()} is\", len(result))\n",
      "c:\\Users\\PRANAV\\OneDrive\\Desktop\\AI-Based Material Recommendation System\\venv\\Lib\\site-packages\\sklearn\\metrics\\_classification.py:1565: UndefinedMetricWarning: Recall is ill-defined and being set to 0.0 in labels with no true samples. Use `zero_division` parameter to control this behavior.\n",
      "  _warn_prf(average, modifier, f\"{metric.capitalize()} is\", len(result))\n",
      "c:\\Users\\PRANAV\\OneDrive\\Desktop\\AI-Based Material Recommendation System\\venv\\Lib\\site-packages\\sklearn\\metrics\\_classification.py:1565: UndefinedMetricWarning: Precision is ill-defined and being set to 0.0 in labels with no predicted samples. Use `zero_division` parameter to control this behavior.\n",
      "  _warn_prf(average, modifier, f\"{metric.capitalize()} is\", len(result))\n",
      "c:\\Users\\PRANAV\\OneDrive\\Desktop\\AI-Based Material Recommendation System\\venv\\Lib\\site-packages\\sklearn\\metrics\\_classification.py:1565: UndefinedMetricWarning: Recall is ill-defined and being set to 0.0 in labels with no true samples. Use `zero_division` parameter to control this behavior.\n",
      "  _warn_prf(average, modifier, f\"{metric.capitalize()} is\", len(result))\n",
      "c:\\Users\\PRANAV\\OneDrive\\Desktop\\AI-Based Material Recommendation System\\venv\\Lib\\site-packages\\sklearn\\metrics\\_classification.py:1565: UndefinedMetricWarning: Precision is ill-defined and being set to 0.0 in labels with no predicted samples. Use `zero_division` parameter to control this behavior.\n",
      "  _warn_prf(average, modifier, f\"{metric.capitalize()} is\", len(result))\n",
      "c:\\Users\\PRANAV\\OneDrive\\Desktop\\AI-Based Material Recommendation System\\venv\\Lib\\site-packages\\sklearn\\metrics\\_classification.py:1565: UndefinedMetricWarning: Recall is ill-defined and being set to 0.0 in labels with no true samples. Use `zero_division` parameter to control this behavior.\n",
      "  _warn_prf(average, modifier, f\"{metric.capitalize()} is\", len(result))\n"
     ]
    },
    {
     "name": "stdout",
     "output_type": "stream",
     "text": [
      "KNeighborsClassifier - Accuracy: 0.8128, F1 Score: 0.8097\n",
      "🏃 View run KNeighborsClassifier at: http://127.0.0.1:5000/#/experiments/0/runs/ec6d70a9ffbf41c0b5345172237c1ae3\n",
      "🧪 View experiment at: http://127.0.0.1:5000/#/experiments/0\n",
      "\n",
      "--- Running GaussianNB ---\n",
      "Fitting 3 folds for each of 2 candidates, totalling 6 fits\n"
     ]
    },
    {
     "name": "stderr",
     "output_type": "stream",
     "text": [
      "Successfully registered model 'GaussianNB_Model'.\n",
      "2025/05/02 20:34:37 INFO mlflow.store.model_registry.abstract_store: Waiting up to 300 seconds for model version to finish creation. Model name: GaussianNB_Model, version 1\n",
      "Created version '1' of model 'GaussianNB_Model'.\n",
      "c:\\Users\\PRANAV\\OneDrive\\Desktop\\AI-Based Material Recommendation System\\venv\\Lib\\site-packages\\sklearn\\model_selection\\_split.py:805: UserWarning: The least populated class in y has only 1 members, which is less than n_splits=3.\n",
      "  warnings.warn(\n"
     ]
    },
    {
     "name": "stdout",
     "output_type": "stream",
     "text": [
      "GaussianNB - Accuracy: 0.2968, F1 Score: 0.2617\n",
      "🏃 View run GaussianNB at: http://127.0.0.1:5000/#/experiments/0/runs/19e319c234fe43a4a65900e4b56403e1\n",
      "🧪 View experiment at: http://127.0.0.1:5000/#/experiments/0\n",
      "\n",
      "--- Running DecisionTreeClassifier ---\n",
      "Fitting 3 folds for each of 72 candidates, totalling 216 fits\n"
     ]
    },
    {
     "name": "stderr",
     "output_type": "stream",
     "text": [
      "c:\\Users\\PRANAV\\OneDrive\\Desktop\\AI-Based Material Recommendation System\\venv\\Lib\\site-packages\\sklearn\\metrics\\_classification.py:1565: UndefinedMetricWarning: Precision is ill-defined and being set to 0.0 in labels with no predicted samples. Use `zero_division` parameter to control this behavior.\n",
      "  _warn_prf(average, modifier, f\"{metric.capitalize()} is\", len(result))\n",
      "c:\\Users\\PRANAV\\OneDrive\\Desktop\\AI-Based Material Recommendation System\\venv\\Lib\\site-packages\\sklearn\\metrics\\_classification.py:1565: UndefinedMetricWarning: Precision is ill-defined and being set to 0.0 in labels with no predicted samples. Use `zero_division` parameter to control this behavior.\n",
      "  _warn_prf(average, modifier, f\"{metric.capitalize()} is\", len(result))\n",
      "c:\\Users\\PRANAV\\OneDrive\\Desktop\\AI-Based Material Recommendation System\\venv\\Lib\\site-packages\\sklearn\\metrics\\_classification.py:1565: UndefinedMetricWarning: Precision is ill-defined and being set to 0.0 in labels with no predicted samples. Use `zero_division` parameter to control this behavior.\n",
      "  _warn_prf(average, modifier, f\"{metric.capitalize()} is\", len(result))\n",
      "Successfully registered model 'DecisionTreeClassifier_Model'.\n",
      "2025/05/02 20:34:41 INFO mlflow.store.model_registry.abstract_store: Waiting up to 300 seconds for model version to finish creation. Model name: DecisionTreeClassifier_Model, version 1\n",
      "Created version '1' of model 'DecisionTreeClassifier_Model'.\n",
      "c:\\Users\\PRANAV\\OneDrive\\Desktop\\AI-Based Material Recommendation System\\venv\\Lib\\site-packages\\sklearn\\model_selection\\_split.py:805: UserWarning: The least populated class in y has only 1 members, which is less than n_splits=3.\n",
      "  warnings.warn(\n"
     ]
    },
    {
     "name": "stdout",
     "output_type": "stream",
     "text": [
      "DecisionTreeClassifier - Accuracy: 0.7900, F1 Score: 0.7868\n",
      "🏃 View run DecisionTreeClassifier at: http://127.0.0.1:5000/#/experiments/0/runs/918027ddb25b46b69a09840035a0522a\n",
      "🧪 View experiment at: http://127.0.0.1:5000/#/experiments/0\n",
      "\n",
      "--- Running RandomForestClassifier ---\n",
      "Fitting 3 folds for each of 96 candidates, totalling 288 fits\n"
     ]
    },
    {
     "name": "stderr",
     "output_type": "stream",
     "text": [
      "c:\\Users\\PRANAV\\OneDrive\\Desktop\\AI-Based Material Recommendation System\\venv\\Lib\\site-packages\\sklearn\\metrics\\_classification.py:1565: UndefinedMetricWarning: Precision is ill-defined and being set to 0.0 in labels with no predicted samples. Use `zero_division` parameter to control this behavior.\n",
      "  _warn_prf(average, modifier, f\"{metric.capitalize()} is\", len(result))\n",
      "c:\\Users\\PRANAV\\OneDrive\\Desktop\\AI-Based Material Recommendation System\\venv\\Lib\\site-packages\\sklearn\\metrics\\_classification.py:1565: UndefinedMetricWarning: Precision is ill-defined and being set to 0.0 in labels with no predicted samples. Use `zero_division` parameter to control this behavior.\n",
      "  _warn_prf(average, modifier, f\"{metric.capitalize()} is\", len(result))\n",
      "c:\\Users\\PRANAV\\OneDrive\\Desktop\\AI-Based Material Recommendation System\\venv\\Lib\\site-packages\\sklearn\\metrics\\_classification.py:1565: UndefinedMetricWarning: Precision is ill-defined and being set to 0.0 in labels with no predicted samples. Use `zero_division` parameter to control this behavior.\n",
      "  _warn_prf(average, modifier, f\"{metric.capitalize()} is\", len(result))\n",
      "Successfully registered model 'RandomForestClassifier_Model'.\n",
      "2025/05/02 20:34:55 INFO mlflow.store.model_registry.abstract_store: Waiting up to 300 seconds for model version to finish creation. Model name: RandomForestClassifier_Model, version 1\n"
     ]
    },
    {
     "name": "stdout",
     "output_type": "stream",
     "text": [
      "RandomForestClassifier - Accuracy: 0.8402, F1 Score: 0.8378\n",
      "🏃 View run RandomForestClassifier at: http://127.0.0.1:5000/#/experiments/0/runs/2d5104349c70436a8bf13b256e84be8f\n",
      "🧪 View experiment at: http://127.0.0.1:5000/#/experiments/0\n"
     ]
    },
    {
     "name": "stderr",
     "output_type": "stream",
     "text": [
      "Created version '1' of model 'RandomForestClassifier_Model'.\n"
     ]
    }
   ],
   "source": [
    "# Loop through each model\n",
    "for model_name, (model, param_grid) in models.items():\n",
    "    try:\n",
    "        with mlflow.start_run(run_name=model_name):\n",
    "            print(f\"\\n--- Running {model_name} ---\")\n",
    "\n",
    "            # Grid Search\n",
    "            grid_search = GridSearchCV(model, param_grid, cv=3, n_jobs=-1, scoring='accuracy', verbose=2)\n",
    "            grid_search.fit(X_train, y_train)\n",
    "            best_model = grid_search.best_estimator_\n",
    "\n",
    "            for param, value in grid_search.best_params_.items():\n",
    "                mlflow.log_param(param, value)\n",
    "\n",
    "            # Predict\n",
    "            y_pred = best_model.predict(X_test)\n",
    "\n",
    "            # Metrics\n",
    "            acc = accuracy_score(y_test, y_pred)\n",
    "            f1 = f1_score(y_test, y_pred, average='weighted')\n",
    "            cm = confusion_matrix(y_test, y_pred)\n",
    "            report = classification_report(y_test, y_pred)\n",
    "\n",
    "            mlflow.log_metric(\"accuracy\", acc)\n",
    "            mlflow.log_metric(\"f1_score\", f1)\n",
    "            mlflow.log_text(str(cm), \"confusion_matrix.txt\")\n",
    "            mlflow.log_text(report, \"classification_report.txt\")\n",
    "\n",
    "            # Log model\n",
    "            tracking_url_type_store = urlparse(mlflow.get_tracking_uri()).scheme\n",
    "            if tracking_url_type_store != \"file\":\n",
    "                mlflow.sklearn.log_model(best_model, \"model\", registered_model_name=f\"{model_name}_Model\", signature=signature)\n",
    "            else:\n",
    "                mlflow.sklearn.log_model(best_model, \"model\", signature=signature)\n",
    "\n",
    "            print(f\"{model_name} - Accuracy: {acc:.4f}, F1 Score: {f1:.4f}\")\n",
    "\n",
    "    except Exception as e:\n",
    "        print(f\"Error running {model_name}: {e}\")"
   ]
  },
  {
   "cell_type": "markdown",
   "id": "71b36bdb",
   "metadata": {},
   "source": [
    "## Make Prediction on a New Sample"
   ]
  },
  {
   "cell_type": "code",
   "execution_count": 27,
   "id": "1012cb7e",
   "metadata": {},
   "outputs": [],
   "source": [
    "input_data = pd.DataFrame([{\n",
    "    \"Environment\": 2,\n",
    "    \"Required_Strength\": 0,\n",
    "    \"Durability_Priority\": 0.326911,\n",
    "    \"Eco_Preference\": 0,\n",
    "    \"Max_Lead_Time\": -0.393654\n",
    "}])"
   ]
  },
  {
   "cell_type": "code",
   "execution_count": 28,
   "id": "bb843d67",
   "metadata": {},
   "outputs": [
    {
     "data": {
      "text/html": [
       "<div>\n",
       "<style scoped>\n",
       "    .dataframe tbody tr th:only-of-type {\n",
       "        vertical-align: middle;\n",
       "    }\n",
       "\n",
       "    .dataframe tbody tr th {\n",
       "        vertical-align: top;\n",
       "    }\n",
       "\n",
       "    .dataframe thead th {\n",
       "        text-align: right;\n",
       "    }\n",
       "</style>\n",
       "<table border=\"1\" class=\"dataframe\">\n",
       "  <thead>\n",
       "    <tr style=\"text-align: right;\">\n",
       "      <th></th>\n",
       "      <th>Environment</th>\n",
       "      <th>Required_Strength</th>\n",
       "      <th>Durability_Priority</th>\n",
       "      <th>Eco_Preference</th>\n",
       "      <th>Max_Lead_Time</th>\n",
       "    </tr>\n",
       "  </thead>\n",
       "  <tbody>\n",
       "    <tr>\n",
       "      <th>0</th>\n",
       "      <td>2</td>\n",
       "      <td>0</td>\n",
       "      <td>0.326911</td>\n",
       "      <td>0</td>\n",
       "      <td>-0.393654</td>\n",
       "    </tr>\n",
       "  </tbody>\n",
       "</table>\n",
       "</div>"
      ],
      "text/plain": [
       "   Environment  Required_Strength  Durability_Priority  Eco_Preference  \\\n",
       "0            2                  0             0.326911               0   \n",
       "\n",
       "   Max_Lead_Time  \n",
       "0      -0.393654  "
      ]
     },
     "execution_count": 28,
     "metadata": {},
     "output_type": "execute_result"
    }
   ],
   "source": [
    "input_data"
   ]
  },
  {
   "cell_type": "code",
   "execution_count": 29,
   "id": "578b2f55",
   "metadata": {},
   "outputs": [
    {
     "name": "stdout",
     "output_type": "stream",
     "text": [
      "[5]\n"
     ]
    }
   ],
   "source": [
    "# Load from specific run\n",
    "model = mlflow.pyfunc.load_model('runs:/2d5104349c70436a8bf13b256e84be8f/model')\n",
    "\n",
    "# Predict using the loaded model\n",
    "predictions = model.predict(input_data)\n",
    "\n",
    "print(predictions)"
   ]
  },
  {
   "cell_type": "markdown",
   "id": "9bea07c0",
   "metadata": {},
   "source": [
    "## Move Trained Model (model.pkl) to `pickle_files` Folder"
   ]
  },
  {
   "cell_type": "code",
   "execution_count": 30,
   "id": "17833c2a",
   "metadata": {},
   "outputs": [
    {
     "name": "stdout",
     "output_type": "stream",
     "text": [
      "Model successfully copied to pickle_files\\model.pkl\n"
     ]
    }
   ],
   "source": [
    "run_id = \"2d5104349c70436a8bf13b256e84be8f\"  # Update with your actual run ID\n",
    "experiment_id = \"0\"  # Optional, depending on your use case\n",
    "\n",
    "# MLflow artifact directory (get model artifact path from run ID)\n",
    "artifact_path = f\"mlartifacts/{experiment_id}/{run_id}/artifacts/model/model.pkl\"  # Update with the correct model artifact location\n",
    "\n",
    "# Define the destination directory\n",
    "pickle_files_dir = \"pickle_files\"  # Update if necessary\n",
    "os.makedirs(pickle_files_dir, exist_ok=True)  # Ensure the directory exists\n",
    "\n",
    "# Define the destination path for the model\n",
    "destination_path = os.path.join(pickle_files_dir, \"model.pkl\")\n",
    "\n",
    "# Copy the model file from the artifact path to the pickle_files directory\n",
    "shutil.copy(artifact_path, destination_path)\n",
    "\n",
    "print(f\"Model successfully copied to {destination_path}\")\n"
   ]
  },
  {
   "cell_type": "markdown",
   "id": "d6e99a20",
   "metadata": {},
   "source": [
    "## Load Model from Pickle and Predict Again"
   ]
  },
  {
   "cell_type": "code",
   "execution_count": 42,
   "id": "36b10b5a",
   "metadata": {},
   "outputs": [],
   "source": [
    "# Load model and preprocessors\n",
    "model = pickle.load(open(\"pickle_files/model.pkl\", \"rb\"))\n",
    "scaler = pickle.load(open(\"pickle_files/scaler.pkl\", \"rb\"))\n",
    "encoder = pickle.load(open(\"pickle_files/encoder.pkl\", \"rb\"))"
   ]
  },
  {
   "cell_type": "code",
   "execution_count": 43,
   "id": "ea8e11e5",
   "metadata": {},
   "outputs": [],
   "source": [
    "# Sample input\n",
    "raw_input = {\n",
    "    \"Environment\": 'Coastal',\n",
    "    \"Required_Strength\": 'Low',\n",
    "    \"Durability_Priority\": 9,\n",
    "    \"Eco_Preference\": 'Yes',\n",
    "    \"Max_Lead_Time\": 30\n",
    "}\n",
    "\n",
    "environment_map = {'Coastal':0, 'Dry':1, 'Humid':2}\n",
    "eco_preference_map = {'Yes':1, 'No':0}\n",
    "required_strength_map = {'Low':0, 'Medium':1, 'High':2}\n",
    "input_df = pd.DataFrame([raw_input])\n",
    "\n",
    "input_df['Environment'] = input_df['Environment'].map(environment_map)\n",
    "input_df['Required_Strength'] = input_df['Required_Strength'].map(required_strength_map)\n",
    "input_df['Eco_Preference'] = input_df['Eco_Preference'].map(eco_preference_map)\n",
    "input_df['Durability_Priority'] = scaler.transform(input_df['Durability_Priority'].values.reshape(-1, 1))\n",
    "input_df['Max_Lead_Time'] = scaler.transform(input_df['Max_Lead_Time'].values.reshape(-1, 1))"
   ]
  },
  {
   "cell_type": "code",
   "execution_count": 44,
   "id": "fbe4347e",
   "metadata": {},
   "outputs": [
    {
     "name": "stdout",
     "output_type": "stream",
     "text": [
      "Recommended Material: Plywood\n"
     ]
    }
   ],
   "source": [
    "predicted_class = model.predict(input_df)\n",
    "\n",
    "material_name = encoder.inverse_transform(predicted_class)\n",
    "\n",
    "print(\"Recommended Material:\", material_name[0])"
   ]
  }
 ],
 "metadata": {
  "kernelspec": {
   "display_name": "venv",
   "language": "python",
   "name": "python3"
  },
  "language_info": {
   "codemirror_mode": {
    "name": "ipython",
    "version": 3
   },
   "file_extension": ".py",
   "mimetype": "text/x-python",
   "name": "python",
   "nbconvert_exporter": "python",
   "pygments_lexer": "ipython3",
   "version": "3.12.3"
  }
 },
 "nbformat": 4,
 "nbformat_minor": 5
}
